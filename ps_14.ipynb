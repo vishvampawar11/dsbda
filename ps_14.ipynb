{
 "cells": [
  {
   "cell_type": "code",
   "execution_count": 1,
   "id": "30969053",
   "metadata": {},
   "outputs": [],
   "source": [
    "import numpy as np\n",
    "import pandas as pd\n",
    "import matplotlib.pyplot as plt\n",
    "from sklearn.model_selection import train_test_split\n",
    "from sklearn.linear_model import LinearRegression\n",
    "from sklearn.naive_bayes import GaussianNB\n",
    "from sklearn.metrics import mean_absolute_error, mean_squared_error, accuracy_score"
   ]
  },
  {
   "cell_type": "code",
   "execution_count": 2,
   "id": "f23fb2b0",
   "metadata": {},
   "outputs": [],
   "source": [
    "headers = [\"sepal length(cm)\", \"sepal width(cm)\", \"petal length(cm)\", \"petal width(cm)\", \"class\"]\n",
    "\n",
    "df = pd.read_csv(\"datasets/Iris/iris.csv\", names=headers, header=None)"
   ]
  },
  {
   "cell_type": "code",
   "execution_count": 3,
   "id": "49082162",
   "metadata": {},
   "outputs": [
    {
     "data": {
      "text/html": [
       "<div>\n",
       "<style scoped>\n",
       "    .dataframe tbody tr th:only-of-type {\n",
       "        vertical-align: middle;\n",
       "    }\n",
       "\n",
       "    .dataframe tbody tr th {\n",
       "        vertical-align: top;\n",
       "    }\n",
       "\n",
       "    .dataframe thead th {\n",
       "        text-align: right;\n",
       "    }\n",
       "</style>\n",
       "<table border=\"1\" class=\"dataframe\">\n",
       "  <thead>\n",
       "    <tr style=\"text-align: right;\">\n",
       "      <th></th>\n",
       "      <th>sepal length(cm)</th>\n",
       "      <th>sepal width(cm)</th>\n",
       "      <th>petal length(cm)</th>\n",
       "      <th>petal width(cm)</th>\n",
       "      <th>class</th>\n",
       "    </tr>\n",
       "  </thead>\n",
       "  <tbody>\n",
       "    <tr>\n",
       "      <th>0</th>\n",
       "      <td>5.1</td>\n",
       "      <td>3.5</td>\n",
       "      <td>1.4</td>\n",
       "      <td>0.2</td>\n",
       "      <td>Iris-setosa</td>\n",
       "    </tr>\n",
       "    <tr>\n",
       "      <th>1</th>\n",
       "      <td>4.9</td>\n",
       "      <td>3.0</td>\n",
       "      <td>1.4</td>\n",
       "      <td>0.2</td>\n",
       "      <td>Iris-setosa</td>\n",
       "    </tr>\n",
       "    <tr>\n",
       "      <th>2</th>\n",
       "      <td>4.7</td>\n",
       "      <td>3.2</td>\n",
       "      <td>1.3</td>\n",
       "      <td>0.2</td>\n",
       "      <td>Iris-setosa</td>\n",
       "    </tr>\n",
       "    <tr>\n",
       "      <th>3</th>\n",
       "      <td>4.6</td>\n",
       "      <td>3.1</td>\n",
       "      <td>1.5</td>\n",
       "      <td>0.2</td>\n",
       "      <td>Iris-setosa</td>\n",
       "    </tr>\n",
       "    <tr>\n",
       "      <th>4</th>\n",
       "      <td>5.0</td>\n",
       "      <td>3.6</td>\n",
       "      <td>1.4</td>\n",
       "      <td>0.2</td>\n",
       "      <td>Iris-setosa</td>\n",
       "    </tr>\n",
       "    <tr>\n",
       "      <th>...</th>\n",
       "      <td>...</td>\n",
       "      <td>...</td>\n",
       "      <td>...</td>\n",
       "      <td>...</td>\n",
       "      <td>...</td>\n",
       "    </tr>\n",
       "    <tr>\n",
       "      <th>145</th>\n",
       "      <td>6.7</td>\n",
       "      <td>3.0</td>\n",
       "      <td>5.2</td>\n",
       "      <td>2.3</td>\n",
       "      <td>Iris-virginica</td>\n",
       "    </tr>\n",
       "    <tr>\n",
       "      <th>146</th>\n",
       "      <td>6.3</td>\n",
       "      <td>2.5</td>\n",
       "      <td>5.0</td>\n",
       "      <td>1.9</td>\n",
       "      <td>Iris-virginica</td>\n",
       "    </tr>\n",
       "    <tr>\n",
       "      <th>147</th>\n",
       "      <td>6.5</td>\n",
       "      <td>3.0</td>\n",
       "      <td>5.2</td>\n",
       "      <td>2.0</td>\n",
       "      <td>Iris-virginica</td>\n",
       "    </tr>\n",
       "    <tr>\n",
       "      <th>148</th>\n",
       "      <td>6.2</td>\n",
       "      <td>3.4</td>\n",
       "      <td>5.4</td>\n",
       "      <td>2.3</td>\n",
       "      <td>Iris-virginica</td>\n",
       "    </tr>\n",
       "    <tr>\n",
       "      <th>149</th>\n",
       "      <td>5.9</td>\n",
       "      <td>3.0</td>\n",
       "      <td>5.1</td>\n",
       "      <td>1.8</td>\n",
       "      <td>Iris-virginica</td>\n",
       "    </tr>\n",
       "  </tbody>\n",
       "</table>\n",
       "<p>150 rows × 5 columns</p>\n",
       "</div>"
      ],
      "text/plain": [
       "     sepal length(cm)  sepal width(cm)  petal length(cm)  petal width(cm)  \\\n",
       "0                 5.1              3.5               1.4              0.2   \n",
       "1                 4.9              3.0               1.4              0.2   \n",
       "2                 4.7              3.2               1.3              0.2   \n",
       "3                 4.6              3.1               1.5              0.2   \n",
       "4                 5.0              3.6               1.4              0.2   \n",
       "..                ...              ...               ...              ...   \n",
       "145               6.7              3.0               5.2              2.3   \n",
       "146               6.3              2.5               5.0              1.9   \n",
       "147               6.5              3.0               5.2              2.0   \n",
       "148               6.2              3.4               5.4              2.3   \n",
       "149               5.9              3.0               5.1              1.8   \n",
       "\n",
       "              class  \n",
       "0       Iris-setosa  \n",
       "1       Iris-setosa  \n",
       "2       Iris-setosa  \n",
       "3       Iris-setosa  \n",
       "4       Iris-setosa  \n",
       "..              ...  \n",
       "145  Iris-virginica  \n",
       "146  Iris-virginica  \n",
       "147  Iris-virginica  \n",
       "148  Iris-virginica  \n",
       "149  Iris-virginica  \n",
       "\n",
       "[150 rows x 5 columns]"
      ]
     },
     "execution_count": 3,
     "metadata": {},
     "output_type": "execute_result"
    }
   ],
   "source": [
    "df"
   ]
  },
  {
   "cell_type": "code",
   "execution_count": 4,
   "id": "8b5d07a9",
   "metadata": {},
   "outputs": [
    {
     "data": {
      "text/html": [
       "<div>\n",
       "<style scoped>\n",
       "    .dataframe tbody tr th:only-of-type {\n",
       "        vertical-align: middle;\n",
       "    }\n",
       "\n",
       "    .dataframe tbody tr th {\n",
       "        vertical-align: top;\n",
       "    }\n",
       "\n",
       "    .dataframe thead th {\n",
       "        text-align: right;\n",
       "    }\n",
       "</style>\n",
       "<table border=\"1\" class=\"dataframe\">\n",
       "  <thead>\n",
       "    <tr style=\"text-align: right;\">\n",
       "      <th></th>\n",
       "      <th>sepal length(cm)</th>\n",
       "      <th>sepal width(cm)</th>\n",
       "      <th>petal length(cm)</th>\n",
       "      <th>petal width(cm)</th>\n",
       "    </tr>\n",
       "  </thead>\n",
       "  <tbody>\n",
       "    <tr>\n",
       "      <th>count</th>\n",
       "      <td>150.000000</td>\n",
       "      <td>150.000000</td>\n",
       "      <td>150.000000</td>\n",
       "      <td>150.000000</td>\n",
       "    </tr>\n",
       "    <tr>\n",
       "      <th>mean</th>\n",
       "      <td>5.843333</td>\n",
       "      <td>3.054000</td>\n",
       "      <td>3.758667</td>\n",
       "      <td>1.198667</td>\n",
       "    </tr>\n",
       "    <tr>\n",
       "      <th>std</th>\n",
       "      <td>0.828066</td>\n",
       "      <td>0.433594</td>\n",
       "      <td>1.764420</td>\n",
       "      <td>0.763161</td>\n",
       "    </tr>\n",
       "    <tr>\n",
       "      <th>min</th>\n",
       "      <td>4.300000</td>\n",
       "      <td>2.000000</td>\n",
       "      <td>1.000000</td>\n",
       "      <td>0.100000</td>\n",
       "    </tr>\n",
       "    <tr>\n",
       "      <th>25%</th>\n",
       "      <td>5.100000</td>\n",
       "      <td>2.800000</td>\n",
       "      <td>1.600000</td>\n",
       "      <td>0.300000</td>\n",
       "    </tr>\n",
       "    <tr>\n",
       "      <th>50%</th>\n",
       "      <td>5.800000</td>\n",
       "      <td>3.000000</td>\n",
       "      <td>4.350000</td>\n",
       "      <td>1.300000</td>\n",
       "    </tr>\n",
       "    <tr>\n",
       "      <th>75%</th>\n",
       "      <td>6.400000</td>\n",
       "      <td>3.300000</td>\n",
       "      <td>5.100000</td>\n",
       "      <td>1.800000</td>\n",
       "    </tr>\n",
       "    <tr>\n",
       "      <th>max</th>\n",
       "      <td>7.900000</td>\n",
       "      <td>4.400000</td>\n",
       "      <td>6.900000</td>\n",
       "      <td>2.500000</td>\n",
       "    </tr>\n",
       "  </tbody>\n",
       "</table>\n",
       "</div>"
      ],
      "text/plain": [
       "       sepal length(cm)  sepal width(cm)  petal length(cm)  petal width(cm)\n",
       "count        150.000000       150.000000        150.000000       150.000000\n",
       "mean           5.843333         3.054000          3.758667         1.198667\n",
       "std            0.828066         0.433594          1.764420         0.763161\n",
       "min            4.300000         2.000000          1.000000         0.100000\n",
       "25%            5.100000         2.800000          1.600000         0.300000\n",
       "50%            5.800000         3.000000          4.350000         1.300000\n",
       "75%            6.400000         3.300000          5.100000         1.800000\n",
       "max            7.900000         4.400000          6.900000         2.500000"
      ]
     },
     "execution_count": 4,
     "metadata": {},
     "output_type": "execute_result"
    }
   ],
   "source": [
    "df.describe()"
   ]
  },
  {
   "cell_type": "code",
   "execution_count": 5,
   "id": "2985ce76",
   "metadata": {},
   "outputs": [
    {
     "name": "stdout",
     "output_type": "stream",
     "text": [
      "<class 'pandas.core.frame.DataFrame'>\n",
      "RangeIndex: 150 entries, 0 to 149\n",
      "Data columns (total 5 columns):\n",
      " #   Column            Non-Null Count  Dtype  \n",
      "---  ------            --------------  -----  \n",
      " 0   sepal length(cm)  150 non-null    float64\n",
      " 1   sepal width(cm)   150 non-null    float64\n",
      " 2   petal length(cm)  150 non-null    float64\n",
      " 3   petal width(cm)   150 non-null    float64\n",
      " 4   class             150 non-null    object \n",
      "dtypes: float64(4), object(1)\n",
      "memory usage: 6.0+ KB\n"
     ]
    }
   ],
   "source": [
    "df.info()"
   ]
  },
  {
   "cell_type": "code",
   "execution_count": 6,
   "id": "7b00f9c0",
   "metadata": {},
   "outputs": [
    {
     "data": {
      "text/plain": [
       "sepal length(cm)    0\n",
       "sepal width(cm)     0\n",
       "petal length(cm)    0\n",
       "petal width(cm)     0\n",
       "class               0\n",
       "dtype: int64"
      ]
     },
     "execution_count": 6,
     "metadata": {},
     "output_type": "execute_result"
    }
   ],
   "source": [
    "df.isna().sum()"
   ]
  },
  {
   "cell_type": "markdown",
   "id": "35aac9bb",
   "metadata": {},
   "source": [
    "<h3>2. Error correction (Outlier detection and removal)</h3>"
   ]
  },
  {
   "cell_type": "code",
   "execution_count": 7,
   "id": "5fde300c",
   "metadata": {},
   "outputs": [],
   "source": [
    "cols = [\"sepal length(cm)\", \"sepal width(cm)\", \"petal length(cm)\", \"petal width(cm)\"]"
   ]
  },
  {
   "cell_type": "code",
   "execution_count": 8,
   "id": "017c2111",
   "metadata": {},
   "outputs": [
    {
     "data": {
      "image/png": "[encoded data removed]",
      "text/plain": [
       "<Figure size 640x480 with 1 Axes>"
      ]
     },
     "metadata": {},
     "output_type": "display_data"
    }
   ],
   "source": [
    "plt.figsize=(18,18)\n",
    "df[cols].boxplot()\n",
    "plt.show()"
   ]
  },
  {
   "cell_type": "code",
   "execution_count": 9,
   "id": "ea64c3cb",
   "metadata": {},
   "outputs": [],
   "source": [
    "def outliers_graph(df_column):\n",
    "    Q75, Q25 = np.percentile(df_column, [75, 25])\n",
    "    IQR = Q75 - Q25\n",
    "    print(f\"Q25: {Q25}\")\n",
    "    print(f\"Q75: {Q75}\")\n",
    "    print(f\"Inter Quartile Range: {IQR}\")\n",
    "    print(f\"Outliers lie before {Q25-1.5*IQR} and beyond {Q75+1.5*IQR}\")\n",
    "    print(f\"No of rows with left extreme outliers: {len(df[df_column < Q25-1.5*IQR])}\")\n",
    "    print(f\"No of rows with right extreme outliers: {len(df[df_column > Q75+1.5*IQR])}\")    "
   ]
  },
  {
   "cell_type": "code",
   "execution_count": 10,
   "id": "024fe46d",
   "metadata": {},
   "outputs": [
    {
     "name": "stdout",
     "output_type": "stream",
     "text": [
      "Q25: 5.1\n",
      "Q75: 6.4\n",
      "Inter Quartile Range: 1.3000000000000007\n",
      "Outliers lie before 3.1499999999999986 and beyond 8.350000000000001\n",
      "No of rows with left extreme outliers: 0\n",
      "No of rows with right extreme outliers: 0\n"
     ]
    }
   ],
   "source": [
    "outliers_graph(df['sepal length(cm)'])"
   ]
  },
  {
   "cell_type": "code",
   "execution_count": 11,
   "id": "8fe20b43",
   "metadata": {},
   "outputs": [
    {
     "name": "stdout",
     "output_type": "stream",
     "text": [
      "Q25: 2.8\n",
      "Q75: 3.3\n",
      "Inter Quartile Range: 0.5\n",
      "Outliers lie before 2.05 and beyond 4.05\n",
      "No of rows with left extreme outliers: 1\n",
      "No of rows with right extreme outliers: 3\n"
     ]
    }
   ],
   "source": [
    "outliers_graph(df['sepal width(cm)'])"
   ]
  },
  {
   "cell_type": "code",
   "execution_count": 12,
   "id": "0875f985",
   "metadata": {},
   "outputs": [],
   "source": [
    "df = df[((df['sepal width(cm)'] >= 2.05) & (df['sepal width(cm)'] <= 4.05))]"
   ]
  },
  {
   "cell_type": "code",
   "execution_count": 13,
   "id": "ddda7ac8",
   "metadata": {},
   "outputs": [
    {
     "name": "stdout",
     "output_type": "stream",
     "text": [
      "Q25: 1.6\n",
      "Q75: 5.1\n",
      "Inter Quartile Range: 3.4999999999999996\n",
      "Outliers lie before -3.649999999999999 and beyond 10.349999999999998\n",
      "No of rows with left extreme outliers: 0\n",
      "No of rows with right extreme outliers: 0\n"
     ]
    }
   ],
   "source": [
    "outliers_graph(df['petal length(cm)'])"
   ]
  },
  {
   "cell_type": "code",
   "execution_count": 14,
   "id": "68fc5cd8",
   "metadata": {},
   "outputs": [
    {
     "name": "stdout",
     "output_type": "stream",
     "text": [
      "Q25: 0.3\n",
      "Q75: 1.8\n",
      "Inter Quartile Range: 1.5\n",
      "Outliers lie before -1.95 and beyond 4.05\n",
      "No of rows with left extreme outliers: 0\n",
      "No of rows with right extreme outliers: 0\n"
     ]
    }
   ],
   "source": [
    "outliers_graph(df['petal width(cm)'])"
   ]
  },
  {
   "cell_type": "markdown",
   "id": "f13f7e7f",
   "metadata": {},
   "source": [
    "<h3>4. Model Building</h3>"
   ]
  },
  {
   "cell_type": "code",
   "execution_count": 15,
   "id": "6a9d576d",
   "metadata": {},
   "outputs": [],
   "source": [
    "x = df.drop(['sepal length(cm)', 'class'], axis=1)\n",
    "y = df['sepal length(cm)']"
   ]
  },
  {
   "cell_type": "code",
   "execution_count": 16,
   "id": "d12a42a2",
   "metadata": {},
   "outputs": [],
   "source": [
    "x_train, x_test, y_train, y_test = train_test_split(x, y, test_size=0.3, random_state=4)"
   ]
  },
  {
   "cell_type": "markdown",
   "id": "8560272e",
   "metadata": {},
   "source": [
    "<h4>1. Linear Regression (predict sepal length)</h4>"
   ]
  },
  {
   "cell_type": "code",
   "execution_count": 17,
   "id": "69576edf",
   "metadata": {},
   "outputs": [
    {
     "data": {
      "text/plain": [
       "LinearRegression()"
      ]
     },
     "execution_count": 17,
     "metadata": {},
     "output_type": "execute_result"
    }
   ],
   "source": [
    "lr = LinearRegression()\n",
    "lr.fit(x_train, y_train)"
   ]
  },
  {
   "cell_type": "code",
   "execution_count": 18,
   "id": "633dc7a0",
   "metadata": {},
   "outputs": [
    {
     "name": "stdout",
     "output_type": "stream",
     "text": [
      "Regression Score: 0.8911380705225486\n"
     ]
    }
   ],
   "source": [
    "print(f\"Regression Score: {lr.score(x_test, y_test)}\")"
   ]
  },
  {
   "cell_type": "code",
   "execution_count": 19,
   "id": "69b7e25b",
   "metadata": {},
   "outputs": [],
   "source": [
    "y_pred = lr.predict(x_test)"
   ]
  },
  {
   "cell_type": "code",
   "execution_count": 20,
   "id": "1ad018d8",
   "metadata": {},
   "outputs": [
    {
     "data": {
      "text/plain": [
       "array([6.68495817, 5.44509685, 5.93484031, 4.90151302, 4.62362665,\n",
       "       5.11683017, 6.5658732 , 6.92611383, 6.00120761, 5.1198979 ,\n",
       "       4.74198127, 5.58591193, 7.02023694, 4.76717142, 4.82974063,\n",
       "       5.99813988, 5.2855651 , 5.69813109, 6.71482306, 6.50733037,\n",
       "       5.01753026, 5.18553483, 6.10495395, 5.00154328, 5.16414276,\n",
       "       6.30259511, 4.88245831, 6.08727795, 5.70491489, 4.69233131,\n",
       "       7.91485823, 7.21013564, 7.14134897, 5.94607055, 5.57364102,\n",
       "       6.17672633, 5.51073378, 5.04812551, 5.26344267, 6.44138313,\n",
       "       4.53586729, 5.17027821, 6.06684454, 6.31244663])"
      ]
     },
     "execution_count": 20,
     "metadata": {},
     "output_type": "execute_result"
    }
   ],
   "source": [
    "y_pred"
   ]
  },
  {
   "cell_type": "code",
   "execution_count": 21,
   "id": "b7b1a118",
   "metadata": {},
   "outputs": [
    {
     "name": "stdout",
     "output_type": "stream",
     "text": [
      "MAE: 0.20856780952029516\n",
      "MSE: 0.07664588337439551\n",
      "RMSE: 0.2768499293378915\n"
     ]
    }
   ],
   "source": [
    "mae = mean_absolute_error(y_true=y_test, y_pred=y_pred)\n",
    "mse = mean_squared_error(y_true=y_test, y_pred=y_pred)\n",
    "rmse = mean_squared_error(y_true=y_test, y_pred=y_pred, squared=False)\n",
    " \n",
    "print(\"MAE:\",mae)\n",
    "print(\"MSE:\",mse)\n",
    "print(\"RMSE:\",rmse)"
   ]
  },
  {
   "cell_type": "markdown",
   "id": "32fc6d74",
   "metadata": {},
   "source": [
    "<h4>2. Naïve Bayes</h4>"
   ]
  },
  {
   "cell_type": "code",
   "execution_count": 25,
   "id": "12ecc6eb",
   "metadata": {},
   "outputs": [],
   "source": [
    "x1 = df.drop('class', axis=1)\n",
    "y1 = df['class']\n",
    "x_train, x_test, y_train, y_test = train_test_split(x1, y1, test_size=0.3, random_state=4)"
   ]
  },
  {
   "cell_type": "code",
   "execution_count": 26,
   "id": "480ff49a",
   "metadata": {},
   "outputs": [
    {
     "data": {
      "text/plain": [
       "GaussianNB()"
      ]
     },
     "execution_count": 26,
     "metadata": {},
     "output_type": "execute_result"
    }
   ],
   "source": [
    "nb = GaussianNB()\n",
    "nb.fit(x_train, y_train)"
   ]
  },
  {
   "cell_type": "code",
   "execution_count": 33,
   "id": "2a68bf52",
   "metadata": {},
   "outputs": [
    {
     "data": {
      "text/plain": [
       "array(['Iris-virginica', 'Iris-setosa', 'Iris-versicolor', 'Iris-setosa',\n",
       "       'Iris-setosa', 'Iris-setosa', 'Iris-virginica', 'Iris-virginica',\n",
       "       'Iris-versicolor', 'Iris-setosa', 'Iris-setosa', 'Iris-versicolor',\n",
       "       'Iris-virginica', 'Iris-setosa', 'Iris-setosa', 'Iris-versicolor',\n",
       "       'Iris-setosa', 'Iris-versicolor', 'Iris-virginica',\n",
       "       'Iris-versicolor', 'Iris-setosa', 'Iris-setosa', 'Iris-versicolor',\n",
       "       'Iris-setosa', 'Iris-setosa', 'Iris-virginica', 'Iris-setosa',\n",
       "       'Iris-virginica', 'Iris-versicolor', 'Iris-setosa',\n",
       "       'Iris-virginica', 'Iris-virginica', 'Iris-virginica',\n",
       "       'Iris-versicolor', 'Iris-versicolor', 'Iris-versicolor',\n",
       "       'Iris-setosa', 'Iris-setosa', 'Iris-setosa', 'Iris-virginica',\n",
       "       'Iris-setosa', 'Iris-setosa', 'Iris-versicolor', 'Iris-virginica'],\n",
       "      dtype='<U15')"
      ]
     },
     "execution_count": 33,
     "metadata": {},
     "output_type": "execute_result"
    }
   ],
   "source": [
    "y_pred = nb.predict(x_test) \n",
    "y_pred"
   ]
  },
  {
   "cell_type": "code",
   "execution_count": 34,
   "id": "df3988bd",
   "metadata": {},
   "outputs": [
    {
     "data": {
      "text/plain": [
       "97.73"
      ]
     },
     "execution_count": 34,
     "metadata": {},
     "output_type": "execute_result"
    }
   ],
   "source": [
    "accuracy_nb=round(accuracy_score(y_test,Y_pred)* 100, 2)\n",
    "accuracy_nb"
   ]
  },
  {
   "cell_type": "code",
   "execution_count": 35,
   "id": "5efbf9dd",
   "metadata": {},
   "outputs": [
    {
     "data": {
      "text/plain": [
       "95.1"
      ]
     },
     "execution_count": 35,
     "metadata": {},
     "output_type": "execute_result"
    }
   ],
   "source": [
    "acc_gaussian = round(nb.score(x_train, y_train) * 100, 2)\n",
    "acc_gaussian"
   ]
  },
  {
   "cell_type": "code",
   "execution_count": null,
   "id": "4b6bc6be",
   "metadata": {},
   "outputs": [],
   "source": []
  }
 ],
 "metadata": {
  "kernelspec": {
   "display_name": "Python 3 (ipykernel)",
   "language": "python",
   "name": "python3"
  },
  "language_info": {
   "codemirror_mode": {
    "name": "ipython",
    "version": 3
   },
   "file_extension": ".py",
   "mimetype": "text/x-python",
   "name": "python",
   "nbconvert_exporter": "python",
   "pygments_lexer": "ipython3",
   "version": "3.9.13"
  }
 },
 "nbformat": 4,
 "nbformat_minor": 5
}
