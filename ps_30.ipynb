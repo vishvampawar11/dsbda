{
 "cells": [
  {
   "cell_type": "code",
   "execution_count": 1,
   "id": "2a009890",
   "metadata": {},
   "outputs": [],
   "source": [
    "import pandas as pd\n",
    "import requests\n",
    "from bs4 import BeautifulSoup as bs"
   ]
  },
  {
   "cell_type": "code",
   "execution_count": 2,
   "id": "04a54405",
   "metadata": {},
   "outputs": [],
   "source": [
    "url = \"https://www.amazon.in/OnePlus-Nord-Jade-128GB-Storage/dp/B0B3CPQ5PF?th=1\"\n",
    "headers = {'User-Agent': \"Mozilla/5.0 (Macintosh; Intel Mac OS X 10_10_1) AppleWebKit/537.36 (KHTML, like Gecko) Chrome/39.0.2171.95 Safari/537.36\"}\n",
    "\n",
    "src = requests.get(url, headers=headers).text"
   ]
  },
  {
   "cell_type": "code",
   "execution_count": 4,
   "id": "91c93ff3",
   "metadata": {},
   "outputs": [],
   "source": [
    "soup = bs(src, 'html.parser')"
   ]
  },
  {
   "cell_type": "code",
   "execution_count": 12,
   "id": "c5b86720",
   "metadata": {},
   "outputs": [],
   "source": [
    "reviews = soup.findAll('div', {'class': 'review-text-content'})\n",
    "reviews = reviews[1:]\n",
    "all_reviews = []\n",
    "for review in reviews:\n",
    "    all_reviews.append(review.get_text()[1:-1])"
   ]
  },
  {
   "cell_type": "code",
   "execution_count": 14,
   "id": "cac205da",
   "metadata": {},
   "outputs": [
    {
     "data": {
      "text/plain": [
       "[\"Very good phone. Has most of the features that you would need in today's world and the best part is its fast charging. The phone gets completely charged in about 25 mins.Having said, that eventually the battery life detoriates.\",\n",
       " 'Completely worth. But the only set back is at times there is overheat post latest updates',\n",
       " 'Good looking daily usage phone. Camera is good and overall performance also. The only issue I faced is heating, even a little low graphics gaming heats the phone very much.',\n",
       " 'Under 29000 best phone i ever usedGood service on time deliveryGives card offers also, and EMI option also available.',\n",
       " 'Good camera, display.Battery is big drawback.',\n",
       " 'and build quality is good RecommendIt should be around 25k',\n",
       " 'Awesome 😎']"
      ]
     },
     "execution_count": 14,
     "metadata": {},
     "output_type": "execute_result"
    }
   ],
   "source": [
    "all_reviews"
   ]
  },
  {
   "cell_type": "code",
   "execution_count": 22,
   "id": "0d04747d",
   "metadata": {},
   "outputs": [],
   "source": [
    "ratings = soup.findAll('i', {'class': 'review-rating'})\n",
    "ratings = ratings[1:]\n",
    "all_ratings = []\n",
    "for rating in ratings:\n",
    "    all_ratings.append(rating.get_text().split()[0])"
   ]
  },
  {
   "cell_type": "code",
   "execution_count": 23,
   "id": "6255b484",
   "metadata": {},
   "outputs": [
    {
     "data": {
      "text/plain": [
       "['4.0', '4.0', '4.0', '4.0', '4.0', '4.0', '4.0']"
      ]
     },
     "execution_count": 23,
     "metadata": {},
     "output_type": "execute_result"
    }
   ],
   "source": [
    "all_ratings"
   ]
  },
  {
   "cell_type": "code",
   "execution_count": 32,
   "id": "f18a5563",
   "metadata": {},
   "outputs": [],
   "source": [
    "customer_names = soup.findAll('div', {'class': 'a-profile-content'})\n",
    "customer_names = customer_names[3:]\n",
    "del customer_names[7]\n",
    "all_customer_names = []\n",
    "for customer in customer_names:\n",
    "    all_customer_names.append(customer.get_text())"
   ]
  },
  {
   "cell_type": "code",
   "execution_count": 33,
   "id": "a4e70261",
   "metadata": {},
   "outputs": [
    {
     "data": {
      "text/plain": [
       "['Gagandeep Singh',\n",
       " 'Amazon Customer',\n",
       " 'Madhubala devi',\n",
       " 'Vinayaka C',\n",
       " 'Kapil Garg',\n",
       " 'vasu reddy',\n",
       " 'Rijwan Mahammad Shaikh']"
      ]
     },
     "execution_count": 33,
     "metadata": {},
     "output_type": "execute_result"
    }
   ],
   "source": [
    "all_customer_names"
   ]
  },
  {
   "cell_type": "code",
   "execution_count": 39,
   "id": "78f65eef",
   "metadata": {},
   "outputs": [],
   "source": [
    "review_titles = soup.findAll('a', {'class': 'review-title'})\n",
    "review_titles = review_titles[1:]\n",
    "all_review_titles = []\n",
    "for review_title in review_titles:\n",
    "    all_review_titles.append(review_title.get_text()[1:-1])"
   ]
  },
  {
   "cell_type": "code",
   "execution_count": 40,
   "id": "e83912fd",
   "metadata": {},
   "outputs": [
    {
     "data": {
      "text/plain": [
       "['Nice phone',\n",
       " 'Good one',\n",
       " 'Value for money',\n",
       " 'Nice product',\n",
       " 'Camera nice, battery a big drawback.',\n",
       " 'and build quality is good Recommend',\n",
       " 'Performance of phone awesome']"
      ]
     },
     "execution_count": 40,
     "metadata": {},
     "output_type": "execute_result"
    }
   ],
   "source": [
    "all_review_titles"
   ]
  },
  {
   "cell_type": "code",
   "execution_count": 41,
   "id": "f97adebc",
   "metadata": {},
   "outputs": [],
   "source": [
    "data = {\n",
    "    'Customer Names': all_customer_names,\n",
    "    'Title': all_review_titles,\n",
    "    'Rating': all_ratings,\n",
    "    'Review': all_reviews\n",
    "}"
   ]
  },
  {
   "cell_type": "code",
   "execution_count": 42,
   "id": "b490f5f3",
   "metadata": {},
   "outputs": [],
   "source": [
    "df = pd.DataFrame(data)"
   ]
  },
  {
   "cell_type": "code",
   "execution_count": 43,
   "id": "ed2759e0",
   "metadata": {},
   "outputs": [
    {
     "data": {
      "text/html": [
       "<div>\n",
       "<style scoped>\n",
       "    .dataframe tbody tr th:only-of-type {\n",
       "        vertical-align: middle;\n",
       "    }\n",
       "\n",
       "    .dataframe tbody tr th {\n",
       "        vertical-align: top;\n",
       "    }\n",
       "\n",
       "    .dataframe thead th {\n",
       "        text-align: right;\n",
       "    }\n",
       "</style>\n",
       "<table border=\"1\" class=\"dataframe\">\n",
       "  <thead>\n",
       "    <tr style=\"text-align: right;\">\n",
       "      <th></th>\n",
       "      <th>Customer Names</th>\n",
       "      <th>Title</th>\n",
       "      <th>Rating</th>\n",
       "      <th>Review</th>\n",
       "    </tr>\n",
       "  </thead>\n",
       "  <tbody>\n",
       "    <tr>\n",
       "      <th>0</th>\n",
       "      <td>Gagandeep Singh</td>\n",
       "      <td>Nice phone</td>\n",
       "      <td>4.0</td>\n",
       "      <td>Very good phone. Has most of the features that...</td>\n",
       "    </tr>\n",
       "    <tr>\n",
       "      <th>1</th>\n",
       "      <td>Amazon Customer</td>\n",
       "      <td>Good one</td>\n",
       "      <td>4.0</td>\n",
       "      <td>Completely worth. But the only set back is at ...</td>\n",
       "    </tr>\n",
       "    <tr>\n",
       "      <th>2</th>\n",
       "      <td>Madhubala devi</td>\n",
       "      <td>Value for money</td>\n",
       "      <td>4.0</td>\n",
       "      <td>Good looking daily usage phone. Camera is good...</td>\n",
       "    </tr>\n",
       "    <tr>\n",
       "      <th>3</th>\n",
       "      <td>Vinayaka C</td>\n",
       "      <td>Nice product</td>\n",
       "      <td>4.0</td>\n",
       "      <td>Under 29000 best phone i ever usedGood service...</td>\n",
       "    </tr>\n",
       "    <tr>\n",
       "      <th>4</th>\n",
       "      <td>Kapil Garg</td>\n",
       "      <td>Camera nice, battery a big drawback.</td>\n",
       "      <td>4.0</td>\n",
       "      <td>Good camera, display.Battery is big drawback.</td>\n",
       "    </tr>\n",
       "    <tr>\n",
       "      <th>5</th>\n",
       "      <td>vasu reddy</td>\n",
       "      <td>and build quality is good Recommend</td>\n",
       "      <td>4.0</td>\n",
       "      <td>and build quality is good RecommendIt should b...</td>\n",
       "    </tr>\n",
       "    <tr>\n",
       "      <th>6</th>\n",
       "      <td>Rijwan Mahammad Shaikh</td>\n",
       "      <td>Performance of phone awesome</td>\n",
       "      <td>4.0</td>\n",
       "      <td>Awesome 😎</td>\n",
       "    </tr>\n",
       "  </tbody>\n",
       "</table>\n",
       "</div>"
      ],
      "text/plain": [
       "           Customer Names                                 Title Rating  \\\n",
       "0         Gagandeep Singh                            Nice phone    4.0   \n",
       "1         Amazon Customer                              Good one    4.0   \n",
       "2          Madhubala devi                       Value for money    4.0   \n",
       "3              Vinayaka C                          Nice product    4.0   \n",
       "4              Kapil Garg  Camera nice, battery a big drawback.    4.0   \n",
       "5              vasu reddy   and build quality is good Recommend    4.0   \n",
       "6  Rijwan Mahammad Shaikh          Performance of phone awesome    4.0   \n",
       "\n",
       "                                              Review  \n",
       "0  Very good phone. Has most of the features that...  \n",
       "1  Completely worth. But the only set back is at ...  \n",
       "2  Good looking daily usage phone. Camera is good...  \n",
       "3  Under 29000 best phone i ever usedGood service...  \n",
       "4      Good camera, display.Battery is big drawback.  \n",
       "5  and build quality is good RecommendIt should b...  \n",
       "6                                          Awesome 😎  "
      ]
     },
     "execution_count": 43,
     "metadata": {},
     "output_type": "execute_result"
    }
   ],
   "source": [
    "df"
   ]
  },
  {
   "cell_type": "code",
   "execution_count": 45,
   "id": "0b135058",
   "metadata": {},
   "outputs": [],
   "source": [
    "df.to_csv(\"scrapper/ps30.csv\")"
   ]
  },
  {
   "cell_type": "code",
   "execution_count": null,
   "id": "7686d250",
   "metadata": {},
   "outputs": [],
   "source": []
  }
 ],
 "metadata": {
  "kernelspec": {
   "display_name": "Python 3 (ipykernel)",
   "language": "python",
   "name": "python3"
  },
  "language_info": {
   "codemirror_mode": {
    "name": "ipython",
    "version": 3
   },
   "file_extension": ".py",
   "mimetype": "text/x-python",
   "name": "python",
   "nbconvert_exporter": "python",
   "pygments_lexer": "ipython3",
   "version": "3.9.13"
  }
 },
 "nbformat": 4,
 "nbformat_minor": 5
}
