{
 "cells": [
  {
   "cell_type": "code",
   "execution_count": 50,
   "id": "1e3886bb",
   "metadata": {},
   "outputs": [],
   "source": [
    "import pandas as pd\n",
    "import requests\n",
    "from bs4 import BeautifulSoup as bs"
   ]
  },
  {
   "cell_type": "code",
   "execution_count": 52,
   "id": "a6fe6822",
   "metadata": {},
   "outputs": [],
   "source": [
    "url = \"https://www.amazon.com/Apple-AirPods-Charging-Latest-Model/dp/B07PXGQC1Q\"\n",
    "headers = {'User-Agent': 'Mozilla/5.0 (Macintosh; Intel Mac OS X 10_10_1) AppleWebKit/537.36 (KHTML, like Gecko) Chrome/39.0.2171.95 Safari/537.36'}\n",
    "src = requests.get(url, headers=headers).text"
   ]
  },
  {
   "cell_type": "code",
   "execution_count": 53,
   "id": "042900ea",
   "metadata": {},
   "outputs": [],
   "source": [
    "soup = bs(src, 'html.parser')"
   ]
  },
  {
   "cell_type": "code",
   "execution_count": 57,
   "id": "78a49f0b",
   "metadata": {},
   "outputs": [],
   "source": [
    "reviews = soup.findAll('div', {'class': 'review-text-content'})\n",
    "all_reviews = []\n",
    "for review in reviews:\n",
    "    all_reviews.append(review.get_text()[1:-1])"
   ]
  },
  {
   "cell_type": "code",
   "execution_count": 61,
   "id": "705dcfc9",
   "metadata": {},
   "outputs": [
    {
     "data": {
      "text/plain": [
       "[\"I recently got my hands on the AirPods 1, and I must say, they have exceeded my expectations in every possible way. From the moment I opened the sleek white charging case, I knew I was in for a treat. These truly wireless earbuds have become an indispensable part of my daily routine, and here's why they deserve a solid 5-star rating.First and foremost, the sound quality of the AirPods 1 is exceptional. The audio is crisp, clear, and well-balanced across the entire frequency range. Whether I'm listening to my favorite tracks or engaging in video calls, the AirPods deliver an immersive and satisfying listening experience. The bass response is surprisingly punchy, and the vocals are rendered with impressive clarity.Pairing the AirPods with my devices is an absolute breeze. The seamless integration with my iPhone, iPad, and MacBook is something to marvel at. The moment I open the case, they automatically connect to my device, allowing me to dive straight into my audio without any hassle. The connection is stable and reliable, ensuring uninterrupted playback even when I'm on the move.The design of the AirPods 1 is both elegant and practical. The sleek, minimalistic earbuds fit snugly in my ears, providing a comfortable and secure fit. I can wear them for hours without experiencing any discomfort. The lack of wires is liberating, allowing me to move freely without any tangles or restrictions. Additionally, the charging case is compact and pocket-friendly, making it convenient to carry the AirPods wherever I go.One of the standout features of the AirPods 1 is their battery life. The earbuds themselves can last for hours on a single charge, and the charging case provides multiple charges, extending the total usage time. This means I can enjoy my favorite music or podcasts throughout the day without worrying about running out of battery. When it's time to recharge, the Lightning connector ensures a quick and efficient charging experience.Lastly, the convenience of the AirPods 1 cannot be overstated. The built-in microphones allow for clear and hands-free calling, and the touch controls on the earbuds make it easy to adjust volume, skip tracks, and activate Siri without reaching for my phone. The smart sensors also automatically pause playback when I remove an earbud, which is a thoughtful feature that saves both battery life and playback progress.In conclusion, the AirPods 1 have proved to be a remarkable companion for my audio needs. With exceptional sound quality, effortless pairing, comfortable fit, and long-lasting battery life, they have truly earned their 5-star rating. If you're in search of a truly wireless listening experience that combines convenience, style, and superb audio quality, look no further than the AirPods 1.\",\n",
       " 'I like the fact that they fit perfect in my ear without me having to keep pushing them in. I bought the AirPod 3 first and they was hurting me so bad I had to keep jamming them in my ear to even hear. Gave them to my daughter. I got these, the 2s and these are great. I’ve had them in all day and have been dancing around and playing with the kids and they are still in my ear. I had forgot that they were which is scary bc I can easily lose them. When I purchased these they arrived half charged and the charging cord and case didn’t work at all so I had to send back and wait two days for the replacement pair. When I got the second pair, the cord didn’t work again however I had a few around the house to use. I couldn’t tell if the case was charging bc this model has no charging indicator unless it’s the light when you open the case. Anyhow, the only way that I was able to see if the case was charging was either one or both of the pods have to be inside the case. If both are in my ear I wouldn’t be able to see if it was charging so I would think that the case was broke and defective. I finally put both pods back in and the case showed up on my phone indicating that it was charging. I took one pod out and was still able to see it charging. When I took both buds out I could not tell if the case was even charging at all until I waited about 30 minutes put both pods back in then the indicator showed back up on my phone on full percent almost. That’s going to be annoying. So far so good on the battery life. I just got them today and have had them in since like 1:00. And they are not dead although I just had them in my ear while doing homework. Not listening to anything. The sound quality kind of sucks which I needed the noise cancellation due to me working at Amazon where it is very loud. It’s clear and good for anywhere besides a loud environment. I have not tried them at work yet but I had a knockoff brand that were louder than these so I know I’ll still have issues with the sound on these. I’ll get the pros for better sound later and give these ones to my son. Overall, I’m satisfied and I’m happy that I have these. Hopefully they perform well and lasts a while. I’ve heard others having there’s for more than three years. I recommend these if you have issues with ear comfort with other ones. These are comfortable. Love themUpdate… I did not like them after a couple days. They did start falling out with my oily ears. They wouldn’t stay in. I ordered the 2 generation pros and I’m Inlove and boy are they loud. Spend a few extra dollars and get the pros for better ear support and comfort. I’m never going back to anything else. My last review',\n",
       " 'I’ve had these for about 9 months now, they were really good. I had some issues with the speaker a few months in as one AirPods was quieter than the other but not too much and after cleaning them out they were almost back to normal. Unfortunately after accidentally tossing them in the washing machine they just stoped working a week later so just double check all your pockets before you do laundry lol. Other than that I do plan on buying these again they are just your normal AirPods and for a good price too!']"
      ]
     },
     "execution_count": 61,
     "metadata": {},
     "output_type": "execute_result"
    }
   ],
   "source": [
    "all_reviews"
   ]
  },
  {
   "cell_type": "code",
   "execution_count": 63,
   "id": "312cbb3a",
   "metadata": {},
   "outputs": [],
   "source": [
    "ratings = soup.findAll('i', {'class': 'review-rating'})\n",
    "all_ratings = []\n",
    "for rating in ratings:\n",
    "    all_ratings.append(rating.get_text().split()[0])"
   ]
  },
  {
   "cell_type": "code",
   "execution_count": 64,
   "id": "66a76530",
   "metadata": {},
   "outputs": [
    {
     "data": {
      "text/plain": [
       "['5.0', '4.0', '5.0']"
      ]
     },
     "execution_count": 64,
     "metadata": {},
     "output_type": "execute_result"
    }
   ],
   "source": [
    "all_ratings"
   ]
  },
  {
   "cell_type": "code",
   "execution_count": 67,
   "id": "11f1609f",
   "metadata": {},
   "outputs": [],
   "source": [
    "review_titles = soup.findAll('a', {'class': 'review-title'})\n",
    "all_review_titles = []\n",
    "for review_title in review_titles:\n",
    "    all_review_titles.append(review_title.get_text()[1:-1])"
   ]
  },
  {
   "cell_type": "code",
   "execution_count": 68,
   "id": "9f0a6925",
   "metadata": {},
   "outputs": [
    {
     "data": {
      "text/plain": [
       "['LOVED IT!!', 'I love these.', 'Good, Don’t do what I did']"
      ]
     },
     "execution_count": 68,
     "metadata": {},
     "output_type": "execute_result"
    }
   ],
   "source": [
    "all_review_titles"
   ]
  },
  {
   "cell_type": "code",
   "execution_count": 71,
   "id": "b0f0db52",
   "metadata": {},
   "outputs": [],
   "source": [
    "customer_names = soup.findAll('div', {'class': 'a-profile-content'})\n",
    "customer_names = customer_names[2:]\n",
    "all_customer_names = []\n",
    "for customer_name in customer_names:\n",
    "    all_customer_names.append(customer_name.get_text())"
   ]
  },
  {
   "cell_type": "code",
   "execution_count": 72,
   "id": "8815c26b",
   "metadata": {},
   "outputs": [
    {
     "data": {
      "text/plain": [
       "['Hao', 'Plain Jane', 'Anonymous3029']"
      ]
     },
     "execution_count": 72,
     "metadata": {},
     "output_type": "execute_result"
    }
   ],
   "source": [
    "all_customer_names"
   ]
  },
  {
   "cell_type": "code",
   "execution_count": 73,
   "id": "43db70fe",
   "metadata": {},
   "outputs": [],
   "source": [
    "data = {\n",
    "    'Customer Names': all_customer_names,\n",
    "    'Title': all_review_titles,\n",
    "    'Rating': all_ratings,\n",
    "    'Review': all_reviews\n",
    "}"
   ]
  },
  {
   "cell_type": "code",
   "execution_count": 74,
   "id": "65fae0a4",
   "metadata": {},
   "outputs": [],
   "source": [
    "df = pd.DataFrame(data)"
   ]
  },
  {
   "cell_type": "code",
   "execution_count": 75,
   "id": "530353c6",
   "metadata": {},
   "outputs": [
    {
     "data": {
      "text/html": [
       "<div>\n",
       "<style scoped>\n",
       "    .dataframe tbody tr th:only-of-type {\n",
       "        vertical-align: middle;\n",
       "    }\n",
       "\n",
       "    .dataframe tbody tr th {\n",
       "        vertical-align: top;\n",
       "    }\n",
       "\n",
       "    .dataframe thead th {\n",
       "        text-align: right;\n",
       "    }\n",
       "</style>\n",
       "<table border=\"1\" class=\"dataframe\">\n",
       "  <thead>\n",
       "    <tr style=\"text-align: right;\">\n",
       "      <th></th>\n",
       "      <th>Customer Names</th>\n",
       "      <th>Title</th>\n",
       "      <th>Rating</th>\n",
       "      <th>Review</th>\n",
       "    </tr>\n",
       "  </thead>\n",
       "  <tbody>\n",
       "    <tr>\n",
       "      <th>0</th>\n",
       "      <td>Hao</td>\n",
       "      <td>LOVED IT!!</td>\n",
       "      <td>5.0</td>\n",
       "      <td>I recently got my hands on the AirPods 1, and ...</td>\n",
       "    </tr>\n",
       "    <tr>\n",
       "      <th>1</th>\n",
       "      <td>Plain Jane</td>\n",
       "      <td>I love these.</td>\n",
       "      <td>4.0</td>\n",
       "      <td>I like the fact that they fit perfect in my ea...</td>\n",
       "    </tr>\n",
       "    <tr>\n",
       "      <th>2</th>\n",
       "      <td>Anonymous3029</td>\n",
       "      <td>Good, Don’t do what I did</td>\n",
       "      <td>5.0</td>\n",
       "      <td>I’ve had these for about 9 months now, they we...</td>\n",
       "    </tr>\n",
       "  </tbody>\n",
       "</table>\n",
       "</div>"
      ],
      "text/plain": [
       "  Customer Names                      Title Rating  \\\n",
       "0            Hao                 LOVED IT!!    5.0   \n",
       "1     Plain Jane              I love these.    4.0   \n",
       "2  Anonymous3029  Good, Don’t do what I did    5.0   \n",
       "\n",
       "                                              Review  \n",
       "0  I recently got my hands on the AirPods 1, and ...  \n",
       "1  I like the fact that they fit perfect in my ea...  \n",
       "2  I’ve had these for about 9 months now, they we...  "
      ]
     },
     "execution_count": 75,
     "metadata": {},
     "output_type": "execute_result"
    }
   ],
   "source": [
    "df"
   ]
  },
  {
   "cell_type": "code",
   "execution_count": 76,
   "id": "381cd6d1",
   "metadata": {},
   "outputs": [],
   "source": [
    "df.to_csv(\"scrapper/ps31.csv\")"
   ]
  },
  {
   "cell_type": "code",
   "execution_count": null,
   "id": "f2e562af",
   "metadata": {},
   "outputs": [],
   "source": []
  }
 ],
 "metadata": {
  "kernelspec": {
   "display_name": "Python 3 (ipykernel)",
   "language": "python",
   "name": "python3"
  },
  "language_info": {
   "codemirror_mode": {
    "name": "ipython",
    "version": 3
   },
   "file_extension": ".py",
   "mimetype": "text/x-python",
   "name": "python",
   "nbconvert_exporter": "python",
   "pygments_lexer": "ipython3",
   "version": "3.9.13"
  }
 },
 "nbformat": 4,
 "nbformat_minor": 5
}
